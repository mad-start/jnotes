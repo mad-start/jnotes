{
 "cells": [
  {
   "cell_type": "markdown",
   "id": "34ef5fd4",
   "metadata": {},
   "source": [
    "[![Open In Colab](https://colab.research.google.com/assets/colab-badge.svg)](https://colab.research.google.com/github/mad-start/jnotes/blob/main/pytorch_lab.ipynb)"
   ]
  },
  {
   "cell_type": "code",
   "execution_count": 3,
   "id": "1a2838d1",
   "metadata": {},
   "outputs": [],
   "source": [
    "# !pip install torch torchvision torchaudio"
   ]
  },
  {
   "cell_type": "code",
   "execution_count": 1,
   "id": "c39fd407",
   "metadata": {},
   "outputs": [
    {
     "data": {
      "text/plain": [
       "<torch._C.Generator at 0x11142d0d0>"
      ]
     },
     "execution_count": 1,
     "metadata": {},
     "output_type": "execute_result"
    }
   ],
   "source": [
    "import torch\n",
    "torch.manual_seed(1)"
   ]
  },
  {
   "cell_type": "code",
   "execution_count": 18,
   "id": "321b781e",
   "metadata": {},
   "outputs": [
    {
     "name": "stdout",
     "output_type": "stream",
     "text": [
      "tensor([1., 2., 3.])\n"
     ]
    }
   ],
   "source": [
    "V_data = [1., 2., 3.]\n",
    "V = torch.tensor(V_data)\n",
    "print(V)"
   ]
  },
  {
   "cell_type": "code",
   "execution_count": 19,
   "id": "01352316",
   "metadata": {
    "scrolled": true
   },
   "outputs": [
    {
     "name": "stdout",
     "output_type": "stream",
     "text": [
      "tensor([[1., 2., 3.],\n",
      "        [4., 5., 6.]])\n"
     ]
    }
   ],
   "source": [
    "M_data = [[1., 2., 3.], [4., 5., 6.]]\n",
    "M = torch.tensor(M_data)\n",
    "print(M)"
   ]
  },
  {
   "cell_type": "code",
   "execution_count": 21,
   "id": "bd623416",
   "metadata": {},
   "outputs": [
    {
     "name": "stdout",
     "output_type": "stream",
     "text": [
      "tensor([[[1., 2.],\n",
      "         [3., 4.]],\n",
      "\n",
      "        [[5., 6.],\n",
      "         [7., 8.]]])\n"
     ]
    }
   ],
   "source": [
    "T_data = [[[1., 2.], [3., 4.]],\n",
    "          [[5., 6.], [7., 8.]]]\n",
    "T = torch.tensor(T_data)\n",
    "print(T)"
   ]
  },
  {
   "cell_type": "markdown",
   "id": "de1b56de",
   "metadata": {},
   "source": [
    "### Tensor Manipulation"
   ]
  },
  {
   "cell_type": "code",
   "execution_count": 24,
   "id": "e6fe5c09",
   "metadata": {},
   "outputs": [
    {
     "data": {
      "text/plain": [
       "1.0"
      ]
     },
     "execution_count": 24,
     "metadata": {},
     "output_type": "execute_result"
    }
   ],
   "source": [
    "V[0].item()"
   ]
  },
  {
   "cell_type": "code",
   "execution_count": 36,
   "id": "b2581469",
   "metadata": {},
   "outputs": [
    {
     "data": {
      "text/plain": [
       "tensor([5., 6.])"
      ]
     },
     "execution_count": 36,
     "metadata": {},
     "output_type": "execute_result"
    }
   ],
   "source": [
    "T[1, 0]"
   ]
  },
  {
   "cell_type": "code",
   "execution_count": 45,
   "id": "0b2d762a",
   "metadata": {},
   "outputs": [],
   "source": [
    "T = torch.randn((3,4,5))"
   ]
  },
  {
   "cell_type": "code",
   "execution_count": 52,
   "id": "603d789a",
   "metadata": {},
   "outputs": [
    {
     "data": {
      "text/plain": [
       "tensor([-1.4726,  0.9698, -0.7391])"
      ]
     },
     "execution_count": 52,
     "metadata": {},
     "output_type": "execute_result"
    }
   ],
   "source": [
    "T[:, 3, 1]"
   ]
  },
  {
   "cell_type": "code",
   "execution_count": 55,
   "id": "8d3b6401",
   "metadata": {},
   "outputs": [
    {
     "data": {
      "text/plain": [
       "tensor([[[ 0.0713, -0.5037,  0.8034,  1.1834,  0.0237],\n",
       "         [ 1.1120, -0.9464,  1.6345, -0.3461,  0.2707],\n",
       "         [-1.3579, -0.9611, -0.3545,  1.3506,  1.8432],\n",
       "         [-1.2497, -1.4726, -1.4529,  0.2563, -0.7528]],\n",
       "\n",
       "        [[-0.4571, -0.2152,  1.5451, -0.3932,  1.4463],\n",
       "         [-1.1437,  0.7888, -0.6769,  0.2527, -0.6618],\n",
       "         [ 1.3849, -0.1820, -0.0223, -1.5084, -2.7273],\n",
       "         [-0.8595,  0.9698,  0.2922,  0.5750,  0.4776]],\n",
       "\n",
       "        [[ 0.2996, -1.0239,  1.0269, -0.1925,  1.3378],\n",
       "         [-0.0713, -1.6469,  0.8410, -0.3101, -1.0481],\n",
       "         [-0.9334,  0.2453,  0.3469,  2.5516, -0.8072],\n",
       "         [ 3.3628, -0.7391,  0.2280,  0.9885, -2.1413]]])"
      ]
     },
     "execution_count": 55,
     "metadata": {},
     "output_type": "execute_result"
    }
   ],
   "source": [
    "T"
   ]
  },
  {
   "cell_type": "code",
   "execution_count": 62,
   "id": "7aba22cb",
   "metadata": {},
   "outputs": [
    {
     "data": {
      "text/plain": [
       "tensor([[[ 0.0713, -0.5037,  0.8034,  1.1834,  0.0237],\n",
       "         [ 1.1120, -0.9464,  1.6345, -0.3461,  0.2707],\n",
       "         [-1.3579, -0.9611, -0.3545,  1.3506,  1.8432],\n",
       "         [-1.2497, -1.4726, -1.4529,  0.2563, -0.7528],\n",
       "         [ 1.1120, -0.9464,  1.6345, -0.3461,  0.2707]],\n",
       "\n",
       "        [[-0.4571, -0.2152,  1.5451, -0.3932,  1.4463],\n",
       "         [-1.1437,  0.7888, -0.6769,  0.2527, -0.6618],\n",
       "         [ 1.3849, -0.1820, -0.0223, -1.5084, -2.7273],\n",
       "         [-0.8595,  0.9698,  0.2922,  0.5750,  0.4776],\n",
       "         [-1.1437,  0.7888, -0.6769,  0.2527, -0.6618]],\n",
       "\n",
       "        [[ 0.2996, -1.0239,  1.0269, -0.1925,  1.3378],\n",
       "         [-0.0713, -1.6469,  0.8410, -0.3101, -1.0481],\n",
       "         [-0.9334,  0.2453,  0.3469,  2.5516, -0.8072],\n",
       "         [ 3.3628, -0.7391,  0.2280,  0.9885, -2.1413],\n",
       "         [-0.0713, -1.6469,  0.8410, -0.3101, -1.0481]]])"
      ]
     },
     "execution_count": 62,
     "metadata": {},
     "output_type": "execute_result"
    }
   ],
   "source": [
    "torch.cat([T, T[:, [1], :]], 1)"
   ]
  },
  {
   "cell_type": "code",
   "execution_count": null,
   "id": "3c872728",
   "metadata": {},
   "outputs": [],
   "source": [
    "T.reshape()"
   ]
  },
  {
   "cell_type": "code",
   "execution_count": 75,
   "id": "73713676",
   "metadata": {},
   "outputs": [
    {
     "data": {
      "text/plain": [
       "tensor([[[ 0.0713, -0.5037,  0.8034,  1.1834,  0.0237],\n",
       "         [ 1.1120, -0.9464,  1.6345, -0.3461,  0.2707],\n",
       "         [-1.3579, -0.9611, -0.3545,  1.3506,  1.8432],\n",
       "         [-1.2497, -1.4726, -1.4529,  0.2563, -0.7528]],\n",
       "\n",
       "        [[-0.4571, -0.2152,  1.5451, -0.3932,  1.4463],\n",
       "         [-1.1437,  0.7888, -0.6769,  0.2527, -0.6618],\n",
       "         [ 1.3849, -0.1820, -0.0223, -1.5084, -2.7273],\n",
       "         [-0.8595,  0.9698,  0.2922,  0.5750,  0.4776]],\n",
       "\n",
       "        [[ 0.2996, -1.0239,  1.0269, -0.1925,  1.3378],\n",
       "         [-0.0713, -1.6469,  0.8410, -0.3101, -1.0481],\n",
       "         [-0.9334,  0.2453,  0.3469,  2.5516, -0.8072],\n",
       "         [ 3.3628, -0.7391,  0.2280,  0.9885, -2.1413]]])"
      ]
     },
     "execution_count": 75,
     "metadata": {},
     "output_type": "execute_result"
    }
   ],
   "source": [
    "T.view()"
   ]
  },
  {
   "cell_type": "code",
   "execution_count": 86,
   "id": "ca865642",
   "metadata": {},
   "outputs": [],
   "source": [
    "x = torch.tensor([1., 2., 3.], requires_grad=True)"
   ]
  },
  {
   "cell_type": "code",
   "execution_count": 87,
   "id": "06aa8f1a",
   "metadata": {},
   "outputs": [],
   "source": [
    "y = torch.tensor([4., 5., 6.], requires_grad=True)"
   ]
  },
  {
   "cell_type": "code",
   "execution_count": 109,
   "id": "2bb56156",
   "metadata": {},
   "outputs": [],
   "source": [
    "z = x+y+x"
   ]
  },
  {
   "cell_type": "code",
   "execution_count": 110,
   "id": "761f367f",
   "metadata": {},
   "outputs": [
    {
     "name": "stdout",
     "output_type": "stream",
     "text": [
      "tensor([ 6.,  9., 12.], grad_fn=<AddBackward0>)\n"
     ]
    }
   ],
   "source": [
    "print(z)"
   ]
  },
  {
   "cell_type": "code",
   "execution_count": 111,
   "id": "6e615294",
   "metadata": {},
   "outputs": [],
   "source": [
    "s = z.sum()"
   ]
  },
  {
   "cell_type": "code",
   "execution_count": 113,
   "id": "baf7ee3b",
   "metadata": {},
   "outputs": [
    {
     "data": {
      "text/plain": [
       "<AddBackward0 at 0x11276dd80>"
      ]
     },
     "execution_count": 113,
     "metadata": {},
     "output_type": "execute_result"
    }
   ],
   "source": []
  },
  {
   "cell_type": "code",
   "execution_count": 95,
   "id": "05b6c12b",
   "metadata": {},
   "outputs": [
    {
     "name": "stdout",
     "output_type": "stream",
     "text": [
      "tensor(21., grad_fn=<SumBackward0>)\n",
      "<SumBackward0 object at 0x1163b9c00>\n"
     ]
    }
   ],
   "source": [
    "s = z.sum()\n",
    "print(s)\n",
    "print(s.grad_fn)"
   ]
  },
  {
   "cell_type": "code",
   "execution_count": 108,
   "id": "5de98f53",
   "metadata": {},
   "outputs": [
    {
     "data": {
      "text/plain": [
       "tensor([1., 2., 3.], requires_grad=True)"
      ]
     },
     "execution_count": 108,
     "metadata": {},
     "output_type": "execute_result"
    }
   ],
   "source": [
    "x"
   ]
  },
  {
   "cell_type": "code",
   "execution_count": 99,
   "id": "35255301",
   "metadata": {},
   "outputs": [
    {
     "name": "stdout",
     "output_type": "stream",
     "text": [
      "tensor([2., 2., 2.])\n"
     ]
    }
   ],
   "source": [
    "with torch.no_grad()"
   ]
  },
  {
   "cell_type": "code",
   "execution_count": null,
   "id": "8737a974",
   "metadata": {},
   "outputs": [],
   "source": []
  }
 ],
 "metadata": {
  "kernelspec": {
   "display_name": "Python 3 (ipykernel)",
   "language": "python",
   "name": "python3"
  },
  "language_info": {
   "codemirror_mode": {
    "name": "ipython",
    "version": 3
   },
   "file_extension": ".py",
   "mimetype": "text/x-python",
   "name": "python",
   "nbconvert_exporter": "python",
   "pygments_lexer": "ipython3",
   "version": "3.10.1"
  }
 },
 "nbformat": 4,
 "nbformat_minor": 5
}
